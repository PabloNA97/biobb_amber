{
 "cells": [
  {
   "cell_type": "markdown",
   "metadata": {},
   "source": [
    "# BioBB Template Command Line Help\n",
    "\n",
    "Generic usage:"
   ]
  },
  {
   "cell_type": "code",
   "execution_count": null,
   "metadata": {},
   "outputs": [],
   "source": [
    "biobb_command [-h] --config CONFIG --input_file(s) <input_file(s)> --output_file <output_file>"
   ]
  },
  {
   "cell_type": "markdown",
   "metadata": {},
   "source": [
    "For more information about how to configurate binaries in your conda environment, please go to [Execution in command line](https://biobb-documentation.readthedocs.io/en/latest/execution.html#execution-in-command-line) section in the official documentation.\n",
    "\n",
    "***"
   ]
  },
  {
   "cell_type": "markdown",
   "metadata": {},
   "source": [
    "## Template\n",
    "\n",
    "Description for the template module.\n",
    "\n",
    "### Get help\n",
    "\n",
    "Command:"
   ]
  },
  {
   "cell_type": "code",
   "execution_count": null,
   "metadata": {},
   "outputs": [],
   "source": [
    "template -h"
   ]
  },
  {
   "cell_type": "code",
   "execution_count": null,
   "metadata": {},
   "outputs": [],
   "source": [
    "usage: template [-h] [--config CONFIG] --input_file_path1 INPUT_FILE_PATH1 [--input_file_path2 INPUT_FILE_PATH2] --output_file_path OUTPUT_FILE_PATH\n",
    "\n",
    "Description for the template module.\n",
    "\n",
    "optional arguments:\n",
    "  -h, --help            show this help message and exit\n",
    "  --config CONFIG       Configuration file\n",
    "  --input_file_path2 INPUT_FILE_PATH2\n",
    "                        Description for the second input file path (optional). Accepted formats: dcd.\n",
    "\n",
    "required arguments:\n",
    "  --input_file_path1 INPUT_FILE_PATH1\n",
    "                        Description for the first input file path. Accepted formats: top.\n",
    "  --output_file_path OUTPUT_FILE_PATH\n",
    "                        Description for the output file path. Accepted formats: zip."
   ]
  },
  {
   "cell_type": "markdown",
   "metadata": {},
   "source": [
    "### I / O Arguments\n",
    "\n",
    "Syntax: input_argument (datatype) : Definition\n",
    "\n",
    "Config input / output arguments for this building block:\n",
    "\n",
    "* **input_file_path1** (str): Description for the first input file path. File type: input. ``` `Sample file <https://urlto.sample>`_ ```. Accepted formats: top.\n",
    "* **input_file_path2** (str) (Optional): Description for the second input file path (optional). File type: input. ``` `Sample file <https://urlto.sample>`_ ```. Accepted formats: dcd.\n",
    "* **output_file_path** (str): Description for the output file path. File type: output. ``` `Sample file <https://urlto.sample>`_ ```. Accepted formats: zip.\n",
    "\n",
    "### Config\n",
    "\n",
    "Syntax: input_parameter (datatype) - (default_value) Definition\n",
    "\n",
    "Config parameters for this building block:\n",
    "    \n",
    "* **boolean_property** (*bool*) - (True) Example of boolean property.\n",
    "* **executable_binary_property** (*str*) - (\"zip\") Example of executable binary property.\n",
    "* **remove_tmp** (*bool*) - (True) [WF property] Remove temporal files.\n",
    "* **restart** (*bool*) - (False) [WF property] Do not execute if output files exist."
   ]
  },
  {
   "cell_type": "markdown",
   "metadata": {},
   "source": [
    "### YAML\n",
    "\n",
    "#### Config file (template.yml)"
   ]
  },
  {
   "cell_type": "code",
   "execution_count": null,
   "metadata": {},
   "outputs": [],
   "source": [
    "properties:\n",
    "  boolean_property: false\n",
    "  remove_tmp: true"
   ]
  },
  {
   "cell_type": "markdown",
   "metadata": {},
   "source": [
    "#### Command line"
   ]
  },
  {
   "cell_type": "code",
   "execution_count": null,
   "metadata": {},
   "outputs": [],
   "source": [
    "template --config data/conf/template.yml --input_file_path1 data/input/topology.top --input_file_path2 data/input/trajectory.dcd --output_file_path data/output/output.zip"
   ]
  },
  {
   "cell_type": "markdown",
   "metadata": {},
   "source": [
    "### JSON\n",
    "\n",
    "#### Config file (template.json)"
   ]
  },
  {
   "cell_type": "code",
   "execution_count": null,
   "metadata": {},
   "outputs": [],
   "source": [
    "{\n",
    "  \"properties\": {\n",
    "    \"boolean_property\": false,\n",
    "    \"remove_tmp\": true\n",
    "  }\n",
    "}"
   ]
  },
  {
   "cell_type": "markdown",
   "metadata": {},
   "source": [
    "#### Command line"
   ]
  },
  {
   "cell_type": "code",
   "execution_count": null,
   "metadata": {},
   "outputs": [],
   "source": [
    "template --config data/conf/template.json --input_file_path1 data/input/topology.top --input_file_path2 data/input/trajectory.dcd --output_file_path data/output/output.zip"
   ]
  },
  {
   "cell_type": "markdown",
   "metadata": {},
   "source": [
    "## TemplateContainer\n",
    "\n",
    "Description for the template_container module.\n",
    "\n",
    "### Get help\n",
    "\n",
    "Command:"
   ]
  },
  {
   "cell_type": "code",
   "execution_count": null,
   "metadata": {},
   "outputs": [],
   "source": [
    "template_container -h"
   ]
  },
  {
   "cell_type": "code",
   "execution_count": null,
   "metadata": {},
   "outputs": [],
   "source": [
    "usage: template_container [-h] [--config CONFIG] --input_file_path1 INPUT_FILE_PATH1 [--input_file_path2 INPUT_FILE_PATH2] --output_file_path OUTPUT_FILE_PATH\n",
    "\n",
    "Description for the template module.\n",
    "\n",
    "optional arguments:\n",
    "  -h, --help            show this help message and exit\n",
    "  --config CONFIG       Configuration file\n",
    "  --input_file_path2 INPUT_FILE_PATH2\n",
    "                        Description for the second input file path (optional). Accepted formats: dcd.\n",
    "\n",
    "required arguments:\n",
    "  --input_file_path1 INPUT_FILE_PATH1\n",
    "                        Description for the first input file path. Accepted formats: top.\n",
    "  --output_file_path OUTPUT_FILE_PATH\n",
    "                        Description for the output file path. Accepted formats: zip."
   ]
  },
  {
   "cell_type": "markdown",
   "metadata": {},
   "source": [
    "### I / O Arguments\n",
    "\n",
    "Syntax: input_argument (datatype) : Definition\n",
    "\n",
    "Config input / output arguments for this building block:\n",
    "\n",
    "* **input_file_path1** (str): Description for the first input file path. File type: input. ``` `Sample file <https://urlto.sample>`_ ```. Accepted formats: top.\n",
    "* **input_file_path2** (str) (Optional): Description for the second input file path (optional). File type: input. ``` `Sample file <https://urlto.sample>`_ ```. Accepted formats: dcd.\n",
    "* **output_file_path** (str): Description for the output file path. File type: output. ``` `Sample file <https://urlto.sample>`_ ```. Accepted formats: zip.\n",
    "\n",
    "### Config\n",
    "\n",
    "Syntax: input_parameter (datatype) - (default_value) Definition\n",
    "\n",
    "Config parameters for this building block:\n",
    "    \n",
    "* **boolean_property** (*bool*) - (True) Example of boolean property.\n",
    "* **executable_binary_property** (*str*) - (\"zip\") Example of executable binary property.\n",
    "* **remove_tmp** (*bool*) - (True) [WF property] Remove temporal files.\n",
    "* **restart** (*bool*) - (False) [WF property] Do not execute if output files exist.\n",
    "* **container_path** (*string*) - (None) Container path definition.\n",
    "* **container_image** (*string*) - ('image/image:latest') Container image definition.\n",
    "* **container_volume_path** (*string*) - ('/tmp') Container volume path definition.\n",
    "* **container_working_dir** (*string*) - (None) Container working directory definition.\n",
    "* **container_user_id** (*string*) - (None) Container user_id definition.\n",
    "* **container_shell_path** (*string*) - ('/bin/bash') Path to default shell inside the container."
   ]
  },
  {
   "cell_type": "markdown",
   "metadata": {},
   "source": [
    "### YAML\n",
    "\n",
    "#### Docker config file (template_docker.yml)"
   ]
  },
  {
   "cell_type": "code",
   "execution_count": null,
   "metadata": {},
   "outputs": [],
   "source": [
    "properties:\n",
    "  boolean_property: false\n",
    "  remove_tmp: true\n",
    "  container_path: docker\n",
    "  container_image: mmbirb/zip:latest\n",
    "  container_volume_path: /tmp"
   ]
  },
  {
   "cell_type": "markdown",
   "metadata": {},
   "source": [
    "#### Command line"
   ]
  },
  {
   "cell_type": "code",
   "execution_count": null,
   "metadata": {},
   "outputs": [],
   "source": [
    "template_container --config data/conf/template_docker.yml --input_file_path1 data/input/topology.top --input_file_path2 data/input/trajectory.dcd --output_file_path data/output/output.docker.zip"
   ]
  },
  {
   "cell_type": "markdown",
   "metadata": {},
   "source": [
    "#### Singularity config file (template_singularity.yml)"
   ]
  },
  {
   "cell_type": "code",
   "execution_count": null,
   "metadata": {},
   "outputs": [],
   "source": [
    "properties:\n",
    "  boolean_property: false\n",
    "  remove_tmp: true\n",
    "  executable_binary_property: /opt/conda/bin/zip\n",
    "  container_path: singularity\n",
    "  container_image: zip.sif\n",
    "  container_volume_path: /tmp"
   ]
  },
  {
   "cell_type": "markdown",
   "metadata": {},
   "source": [
    "#### Command line"
   ]
  },
  {
   "cell_type": "code",
   "execution_count": null,
   "metadata": {},
   "outputs": [],
   "source": [
    "template_container --config data/conf/template_singularity.yml --input_file_path1 data/input/topology.top --input_file_path2 data/input/trajectory.dcd --output_file_path data/output/output.singularity.zip"
   ]
  },
  {
   "cell_type": "markdown",
   "metadata": {},
   "source": [
    "### JSON\n",
    "\n",
    "#### Docker config file (template_docker.json)"
   ]
  },
  {
   "cell_type": "code",
   "execution_count": null,
   "metadata": {},
   "outputs": [],
   "source": [
    "{\n",
    "  \"properties\": {\n",
    "    \"boolean_property\": false,\n",
    "    \"remove_tmp\": true,\n",
    "    \"container_path\": \"docker\",\n",
    "    \"container_image\": \"mmbirb/zip:latest\",\n",
    "    \"container_volume_path\": \"/tmp\"\n",
    "  }\n",
    "}"
   ]
  },
  {
   "cell_type": "markdown",
   "metadata": {},
   "source": [
    "#### Command line"
   ]
  },
  {
   "cell_type": "code",
   "execution_count": null,
   "metadata": {},
   "outputs": [],
   "source": [
    "template_container --config data/conf/template_docker.json --input_file_path1 data/input/topology.top --input_file_path2 data/input/trajectory.dcd --output_file_path data/output/output.docker.zip"
   ]
  },
  {
   "cell_type": "markdown",
   "metadata": {},
   "source": [
    "#### Singularity config file (template_singularity.json)"
   ]
  },
  {
   "cell_type": "code",
   "execution_count": null,
   "metadata": {},
   "outputs": [],
   "source": [
    "{\n",
    "  \"properties\": {\n",
    "    \"boolean_property\": false,\n",
    "    \"remove_tmp\": true,\n",
    "    \"executable_binary_property\": \"/opt/conda/bin/zip\",\n",
    "    \"container_path\": \"singularity\",\n",
    "    \"container_image\": \"zip.sif\",\n",
    "    \"container_volume_path\": \"/tmp\"\n",
    "  }\n",
    "}"
   ]
  },
  {
   "cell_type": "markdown",
   "metadata": {},
   "source": [
    "#### Command line"
   ]
  },
  {
   "cell_type": "code",
   "execution_count": null,
   "metadata": {},
   "outputs": [],
   "source": [
    "template_container --config data/conf/template_singularity.json --input_file_path1 data/input/topology.top --input_file_path2 data/input/trajectory.dcd --output_file_path data/output/output.singularity.zip"
   ]
  }
 ],
 "metadata": {
  "kernelspec": {
   "display_name": "Python 3",
   "language": "python",
   "name": "python3"
  },
  "language_info": {
   "codemirror_mode": {
    "name": "ipython",
    "version": 3
   },
   "file_extension": ".py",
   "mimetype": "text/x-python",
   "name": "python",
   "nbconvert_exporter": "python",
   "pygments_lexer": "ipython3",
   "version": "3.6.7"
  }
 },
 "nbformat": 4,
 "nbformat_minor": 4
}
